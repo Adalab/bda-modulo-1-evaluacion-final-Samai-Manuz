{
 "cells": [
  {
   "cell_type": "markdown",
   "id": "8fdc7e1c",
   "metadata": {},
   "source": [
    "### Ejercicio Completo\n"
   ]
  },
  {
   "cell_type": "code",
   "execution_count": 190,
   "id": "a5310426",
   "metadata": {},
   "outputs": [],
   "source": [
    "class OnlineStore:\n",
    "    def __init__(self, stock, total_sales):\n",
    "        self.stock = stock\n",
    "        self.total_sales = total_sales\n",
    "\n",
    "    def add_item(self, product, price, quantity):\n",
    "\n",
    "        is_product_added = False\n",
    "\n",
    "        try:\n",
    "            for item in self.stock: \n",
    "                if item['product'].lower() == product.lower(): \n",
    "                    item['quantity'] += quantity\n",
    "                    is_product_added = True\n",
    "                   \n",
    "            if is_product_added == False:\n",
    "             self.stock.append({'product': product, 'price': price, 'quantity': quantity})\n",
    "        \n",
    "        except (TypeError, KeyError, ValueError) as error:\n",
    "            print(f'Error adding item: {error}')\n",
    "\n",
    "    def show_stock(self):\n",
    "        try: \n",
    "            for item in self.stock:\n",
    "                print(f'Product: {item['product']}, Price: {item['price']}€, Quantity: {item['quantity']}')\n",
    "                \n",
    "        except(TypeError, KeyError, ValueError) as error:\n",
    "            print(f'Error showing stock: {error}') \n",
    "\n",
    "    def search_product(self, product):\n",
    "        try:\n",
    "            for item in self.stock:\n",
    "                if item['product'].lower() == product.lower(): \n",
    "                    print(f'Product: {item['product']}, Price: ${item['price']}, Quantity: {item['quantity']}')\n",
    "\n",
    "        except(TypeError, KeyError, ValueError) as error:\n",
    "            print(f'Error searching product: {error}')\n",
    "\n",
    "    def update_stock(self, product, quantity):\n",
    "        try:\n",
    "            for item in self.stock:\n",
    "                if item['product'].lower() == product.lower():\n",
    "                    item['quantity'] += quantity\n",
    "                    return\n",
    "            else:\n",
    "                print('This product is not available at the moment')        \n",
    "        except(TypeError, KeyError, ValueError) as error:\n",
    "            print(f'Error updating stock: {error}')    \n",
    "\n",
    "    def remove_product(self, product):\n",
    "        try:\n",
    "            for item in self.stock:\n",
    "              if item['product'].lower() == product.lower():\n",
    "                self.stock.remove(item)\n",
    "                print(f\"{product} has been removed from stock.\")\n",
    "                return\n",
    "            else:\n",
    "                print('This product is not available at the moment')        \n",
    "        except(TypeError, KeyError, ValueError) as error:\n",
    "            print(f'Error removing stock: {error}')      \n",
    "\n",
    "    def calculate_inventory_value(self):\n",
    "        try:\n",
    "            total_value = 0\n",
    "            for item in self.stock:\n",
    "                total_value += item[\"price\"] * item[\"quantity\"]\n",
    "            print(f\"Total inventory value: {total_value}€\")\n",
    "            \n",
    "        except (TypeError, KeyError, ValueError) as error:\n",
    "            print(f\"Error calculating inventory value: {error}\")        \n"
   ]
  },
  {
   "cell_type": "markdown",
   "id": "0dc07ebf",
   "metadata": {},
   "source": [
    "### Ejercicio Desglosado para instancias y pruebas"
   ]
  },
  {
   "cell_type": "markdown",
   "id": "67ec0846",
   "metadata": {},
   "source": [
    "A lo largo de esta evaluación tendrás que crear una clase llamada **TiendaOnline** que cumpla los siguientes requisitos:\n",
    "\n",
    "**Atributos:**\n",
    "- `inventario` (lista de diccionarios): Un atributo para almacenar los productos en el inventario.  \n",
    "  Ejemplo:  \n",
    "  ```python\n",
    "  [{'nombre': 'Camisa', 'precio': 20, 'cantidad': 40},\n",
    "   {'nombre': 'Pantalón', 'precio': 30, 'cantidad': 30}]\n",
    "- ventas_totales (float): Inicializado en 0.\n",
    "\n",
    "</div>"
   ]
  },
  {
   "cell_type": "markdown",
   "id": "1c12d1a3",
   "metadata": {},
   "source": [
    "<div style=\"font-size:12px\">\n",
    "\n",
    "### Método `agregar_producto(self, nombre, precio, cantidad)`\n",
    "- Agrega un producto al inventario o actualiza su cantidad si ya existe.\n",
    "- Si el producto ya existe, actualiza la cantidad.\n",
    "- Si no existe, agrega un nuevo producto al inventario.\n",
    "\n",
    "</div>"
   ]
  },
  {
   "cell_type": "markdown",
   "id": "2a1d71d3",
   "metadata": {},
   "source": [
    "<div style=\"font-size:12px\">\n",
    "\n",
    "### Método `ver_inventario(self)`\n",
    "- Muestra el inventario de productos con sus detalles.\n",
    "- Ejemplo:  \n",
    "\n",
    "        - {Nombre: Camisa, Precio: $20, Cantidad: 50}\n",
    "\n",
    "        - {Nombre: Pantalón, Precio: $30, Cantidad: 30}\n",
    "\n",
    "        - Nombre: {Zapatos, Precio: $50, Cantidad: 40}   \n"
   ]
  },
  {
   "cell_type": "markdown",
   "id": "fed9e2ee",
   "metadata": {},
   "source": [
    "### Creo instancias de la clase OnlineStore 👇"
   ]
  },
  {
   "cell_type": "code",
   "execution_count": 191,
   "id": "113afa1c",
   "metadata": {},
   "outputs": [],
   "source": [
    "#Instancias para pruebas\n",
    "shirt_store = OnlineStore(stock=[{'product' : 'shirt', 'price' : 20, 'quantity' : 10}], total_sales=0)\n",
    "jeans_store = OnlineStore(stock=[{'product' : 'jeans', 'price' : 25, 'quantity' : 7}], total_sales=0)\n",
    "t_shirt_store = OnlineStore(stock=[{'product' : 't-shirt', 'price' : 15, 'quantity' : 15}], total_sales=0)\n",
    "shoes_store = OnlineStore(stock=[{'product' : 'shoes', 'price' : 45, 'quantity' : 3}], total_sales=0)\n",
    "socks_store = OnlineStore(stock=[{'product' : 'socks', 'price' : 3, 'quantity' : 5}], total_sales=0)\n",
    "\n",
    "clothing_store = OnlineStore([], 0)"
   ]
  },
  {
   "cell_type": "markdown",
   "id": "d49534b1",
   "metadata": {},
   "source": [
    "### Compruebo los métodos 👇"
   ]
  },
  {
   "cell_type": "code",
   "execution_count": 192,
   "id": "4d052135",
   "metadata": {},
   "outputs": [
    {
     "name": "stdout",
     "output_type": "stream",
     "text": [
      "Product: shirt, Price: 20€, Quantity: 10\n",
      "Product: jeans, Price: 25€, Quantity: 7\n",
      "Product: t-shirt, Price: 15€, Quantity: 15\n",
      "Product: shoes, Price: 45€, Quantity: 6\n",
      "Product: socks, Price: 3€, Quantity: 0\n"
     ]
    }
   ],
   "source": [
    "clothing_store = OnlineStore([], 0)\n",
    "#Método \".add_item()\"\n",
    "#1. Le llamo con los diferentes \"products\" para que me vaya guardanto en la lista de stock los distintos diccionarios (item)\n",
    "clothing_store.add_item('shirt', 20, 10)\n",
    "clothing_store.add_item('jeans', 25, 7)\n",
    "clothing_store.add_item('t-shirt', 15, 15)\n",
    "clothing_store.add_item('shoes', 45, 3)\n",
    "clothing_store.add_item('socks', 3, 0)\n",
    "\n",
    "#2. Le vuelvo a llamar con el \"product: shoes\" , a ver cómo responde\"\n",
    "clothing_store.add_item('shoes', 45, 3)\n",
    "\n",
    "#Método \".show.stock()\" 👉 Con este método, compruebo también el anterior\n",
    "clothing_store.show_stock()"
   ]
  },
  {
   "cell_type": "markdown",
   "id": "708399ca",
   "metadata": {},
   "source": [
    "<div style=\"font-size:12px\">\n",
    "\n",
    "### Método `buscar_producto(self, nombre)`\n",
    "- Busca un producto en el inventario por nombre y muestra sus detalles si se encuentra.\n",
    "- Ejemplo:  {Nombre: Camisa, Precio: $20, Cantidad: 40}\n",
    "\n",
    "</div>"
   ]
  },
  {
   "cell_type": "code",
   "execution_count": null,
   "id": "d0e6bb7d",
   "metadata": {},
   "outputs": [
    {
     "name": "stdout",
     "output_type": "stream",
     "text": [
      "Product: shoes, Price: $45, Quantity: 6\n"
     ]
    }
   ],
   "source": [
    "clothing_store.search_product('Shoes') #Se lo paso en mayúscula para comprobar que funciona el .lower()"
   ]
  },
  {
   "cell_type": "markdown",
   "id": "3fb3817f",
   "metadata": {},
   "source": [
    "<div style=\"font-size:12px\">\n",
    "\n",
    "### Método `actualizar_stock(self, nombre, cantidad)`\n",
    "- Actualiza el stock de un producto en el inventario.\n",
    "- Si el producto no está en el inventario, muestra un mensaje indicándolo.\n",
    "\n",
    "</div>"
   ]
  },
  {
   "cell_type": "code",
   "execution_count": null,
   "id": "036a223a",
   "metadata": {},
   "outputs": [
    {
     "name": "stdout",
     "output_type": "stream",
     "text": [
      "This product is not available at the moment\n",
      "This product is not available at the moment\n",
      "This product is not available at the moment\n",
      "This product is not available at the moment\n",
      "Product: socks, Price: $3, Quantity: 10\n",
      "This product is not available at the moment\n",
      "This product is not available at the moment\n",
      "This product is not available at the moment\n",
      "This product is not available at the moment\n",
      "This product is not available at the moment\n"
     ]
    }
   ],
   "source": [
    "clothing_store.update_stock('socks', 5)\n",
    "clothing_store.search_product('Socks') #Se lo paso en mayúscula para comprobar que funciona el .lower()\n",
    "clothing_store.update_stock('skirt', 7)\n",
    "#Veo 👇 que me recorre el for completo (y me va imprimiendo), incluso cuando no es necesario porque ha coincidido."
   ]
  },
  {
   "cell_type": "code",
   "execution_count": 193,
   "id": "f482648f",
   "metadata": {},
   "outputs": [
    {
     "name": "stdout",
     "output_type": "stream",
     "text": [
      "Product: socks, Price: $3, Quantity: 5\n"
     ]
    }
   ],
   "source": [
    "#Así que creo que le tengo que meter un \"break\"\n",
    "\n",
    "clothing_store.update_stock('Socks', 5) #Se lo paso en mayúscula para comprobar que funciona el .lower()\n",
    "clothing_store.search_product('Socks')"
   ]
  },
  {
   "cell_type": "code",
   "execution_count": 194,
   "id": "c6bf08fc",
   "metadata": {},
   "outputs": [
    {
     "name": "stdout",
     "output_type": "stream",
     "text": [
      "This product is not available at the moment\n"
     ]
    }
   ],
   "source": [
    "clothing_store.update_stock('skirt', 7)"
   ]
  },
  {
   "cell_type": "markdown",
   "id": "3708dd17",
   "metadata": {},
   "source": [
    "<div style=\"font-size:12px\">\n",
    "\n",
    "### Método `eliminar_producto(self, nombre)`\n",
    "- Elimina un producto del inventario por nombre.\n",
    "- Si no existe, muestra un mensaje indicándolo.\n",
    "\n",
    "</div>"
   ]
  },
  {
   "cell_type": "code",
   "execution_count": 195,
   "id": "58ee6264",
   "metadata": {},
   "outputs": [
    {
     "name": "stdout",
     "output_type": "stream",
     "text": [
      "Socks has been removed from stock.\n",
      "Product: shirt, Price: 20€, Quantity: 10\n",
      "Product: jeans, Price: 25€, Quantity: 7\n",
      "Product: t-shirt, Price: 15€, Quantity: 15\n",
      "Product: shoes, Price: 45€, Quantity: 6\n"
     ]
    }
   ],
   "source": [
    "clothing_store.remove_product('Socks')  #De nuevo, lo paso en mayúsculas para comprobar el \".lower()\"\n",
    "clothing_store.show_stock()             #Llamo al método \".show_stock\" para comprobar si lo ha eliminado."
   ]
  },
  {
   "cell_type": "markdown",
   "id": "6ecde994",
   "metadata": {},
   "source": [
    "<div style=\"font-size:12px\">\n",
    "\n",
    "### Método `calcular_valor_inventario(self)`\n",
    "- Calcula el valor total del inventario sumando `(precio × cantidad)` de cada producto.  \n",
    "- Itera a través del inventario y suma el valor de cada producto (precio x cantidad). Es decir,\n",
    "calcula el valor total del inventario. Ejemplo:  \n",
    "  - Si tenemos 5 camisas que valen 5 euros\n",
    "  - y 10 calcetines que valen 1 euro\n",
    "  - este método te tiene que devolver: 35 euros\n",
    "  ```python\n",
    "  valor_camisas = 5 * 5\n",
    "  valor_calcetines = 10 * 1\n",
    "  total = valor_camisas + valor_calcetines = 35\n"
   ]
  },
  {
   "cell_type": "code",
   "execution_count": 196,
   "id": "312f6846",
   "metadata": {},
   "outputs": [
    {
     "name": "stdout",
     "output_type": "stream",
     "text": [
      "Total inventory value: 870€\n"
     ]
    }
   ],
   "source": [
    "clothing_store.calculate_inventory_value()"
   ]
  }
 ],
 "metadata": {
  "kernelspec": {
   "display_name": "base",
   "language": "python",
   "name": "python3"
  },
  "language_info": {
   "codemirror_mode": {
    "name": "ipython",
    "version": 3
   },
   "file_extension": ".py",
   "mimetype": "text/x-python",
   "name": "python",
   "nbconvert_exporter": "python",
   "pygments_lexer": "ipython3",
   "version": "3.13.5"
  }
 },
 "nbformat": 4,
 "nbformat_minor": 5
}
